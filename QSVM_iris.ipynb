{
 "cells": [
  {
   "cell_type": "code",
   "execution_count": 1,
   "metadata": {},
   "outputs": [],
   "source": [
    "import numpy as np\n",
    "from sklearn.datasets import load_iris\n",
    "from sklearn.model_selection import train_test_split\n",
    "import qiskit\n",
    "from qiskit import BasicAer\n",
    "from qiskit.aqua import QuantumInstance\n",
    "\n",
    "from qiskit.aqua.algorithms import QSVM\n",
    "from qiskit.aqua.components.multiclass_extensions import one_against_rest, all_pairs\n",
    "\n",
    "from qiskit.aqua.components.feature_maps import SecondOrderExpansion\n",
    "from qiskit.aqua.input import ClassificationInput\n",
    "from qiskit.aqua import run_algorithm\n",
    "#backend = BasicAer.get_backend(\"statevector_simulator\")\n",
    "backend = BasicAer.get_backend('qasm_simulator')\n"
   ]
  },
  {
   "cell_type": "code",
   "execution_count": 2,
   "metadata": {},
   "outputs": [],
   "source": [
    "iris = load_iris()"
   ]
  },
  {
   "cell_type": "code",
   "execution_count": 3,
   "metadata": {},
   "outputs": [
    {
     "name": "stdout",
     "output_type": "stream",
     "text": [
      "(150, 4)\n",
      "3\n"
     ]
    }
   ],
   "source": [
    "X, Y = iris.data, iris.target\n",
    "print(X.shape)\n",
    "print(len(set(Y)))\n",
    "train_x, test_x, train_y, test_y = train_test_split(X, Y, test_size=0.2)"
   ]
  },
  {
   "cell_type": "code",
   "execution_count": 4,
   "metadata": {},
   "outputs": [],
   "source": [
    "num_features = 4\n",
    "training_size = 120\n",
    "test_size = 30"
   ]
  },
  {
   "cell_type": "code",
   "execution_count": 5,
   "metadata": {},
   "outputs": [],
   "source": [
    "feature_map = SecondOrderExpansion(feature_dimension=num_features, depth=2)"
   ]
  },
  {
   "cell_type": "code",
   "execution_count": 6,
   "metadata": {},
   "outputs": [],
   "source": [
    "params = {\n",
    "            'problem': {'name': 'classification'},\n",
    "            'algorithm': {\n",
    "                'name': 'QSVM',\n",
    "            },\n",
    "            'multiclass_extension': {'name': 'OneAgainstRest'},\n",
    "            'feature_map': {'name': 'SecondOrderExpansion', 'depth': 2 }\n",
    "}\n",
    "\n",
    "params = {\n",
    "            'problem': {'name': 'classification', 'random_seed': 794},\n",
    "            'algorithm': {\n",
    "                'name': 'QSVM',\n",
    "            },\n",
    "            'backend': {'shots': 1024},\n",
    "            'multiclass_extension': {'name': 'OneAgainstRest'},\n",
    "            #'feature_map': {'name': 'SecondOrderExpansion', 'depth': 2, 'entangler_map': [[0, 1]]}\n",
    "            'feature_map': {'name': 'SecondOrderExpansion', 'depth': 2}\n",
    "    \n",
    "        }"
   ]
  },
  {
   "cell_type": "code",
   "execution_count": 7,
   "metadata": {},
   "outputs": [
    {
     "name": "stdout",
     "output_type": "stream",
     "text": [
      "CPU times: user 17min 44s, sys: 30.4 s, total: 18min 15s\n",
      "Wall time: 38min 32s\n"
     ]
    }
   ],
   "source": [
    "training_dataset={'A':train_x[train_y==0],\n",
    "                'B':train_x[train_y==1],\n",
    "                'C':train_x[train_y==2]}\n",
    "test_dataset={'A':test_x[test_y==0],\n",
    "                        'B':test_x[test_y==1],\n",
    "                        'C':test_x[test_y==2]}\n",
    "total_arr = np.concatenate((test_dataset['A'],test_dataset['B'],test_dataset['C']))\n",
    "alg_input = ClassificationInput(training_dataset, test_dataset, total_arr)\n",
    "%time result = run_algorithm(params, algo_input=alg_input, backend=backend)"
   ]
  },
  {
   "cell_type": "code",
   "execution_count": 8,
   "metadata": {},
   "outputs": [
    {
     "data": {
      "text/plain": [
       "dict_keys(['testing_accuracy', 'test_success_ratio', 'predicted_labels', 'predicted_classes'])"
      ]
     },
     "execution_count": 8,
     "metadata": {},
     "output_type": "execute_result"
    }
   ],
   "source": [
    "result.keys()"
   ]
  },
  {
   "cell_type": "code",
   "execution_count": 9,
   "metadata": {},
   "outputs": [
    {
     "name": "stdout",
     "output_type": "stream",
     "text": [
      "testing_accuracy 0.7333333333333334\n",
      "test_success_ratio 0.7333333333333334\n",
      "predicted_labels [0 0 0 1 0 1 0 0 1 0 1 1 1 1 1 1 1 1 2 2 2 0 2 0 2 2 1 1 2 2]\n",
      "predicted_classes ['A', 'A', 'A', 'B', 'A', 'B', 'A', 'A', 'B', 'A', 'B', 'B', 'B', 'B', 'B', 'B', 'B', 'B', 'C', 'C', 'C', 'A', 'C', 'A', 'C', 'C', 'B', 'B', 'C', 'C']\n"
     ]
    }
   ],
   "source": [
    "for k,v in result.items():\n",
    "    print(k, v)"
   ]
  },
  {
   "cell_type": "code",
   "execution_count": 10,
   "metadata": {},
   "outputs": [
    {
     "data": {
      "text/plain": [
       "0.7333333333333334"
      ]
     },
     "execution_count": 10,
     "metadata": {},
     "output_type": "execute_result"
    }
   ],
   "source": [
    "result['test_success_ratio']"
   ]
  },
  {
   "cell_type": "code",
   "execution_count": null,
   "metadata": {},
   "outputs": [],
   "source": []
  },
  {
   "cell_type": "code",
   "execution_count": 11,
   "metadata": {},
   "outputs": [
    {
     "ename": "AttributeError",
     "evalue": "type object 'OneAgainstRest' has no attribute 'params'",
     "output_type": "error",
     "traceback": [
      "\u001b[0;31m---------------------------------------------------------------------------\u001b[0m",
      "\u001b[0;31mAttributeError\u001b[0m                            Traceback (most recent call last)",
      "\u001b[0;32m<ipython-input-11-c83062576501>\u001b[0m in \u001b[0;36m<module>\u001b[0;34m\u001b[0m\n\u001b[1;32m      8\u001b[0m                         \u001b[0;34m'B'\u001b[0m\u001b[0;34m:\u001b[0m\u001b[0mtest_x\u001b[0m\u001b[0;34m[\u001b[0m\u001b[0mtest_y\u001b[0m\u001b[0;34m==\u001b[0m\u001b[0;36m1\u001b[0m\u001b[0;34m]\u001b[0m\u001b[0;34m,\u001b[0m\u001b[0;34m\u001b[0m\u001b[0;34m\u001b[0m\u001b[0m\n\u001b[1;32m      9\u001b[0m                         'C':test_x[test_y==2]},\n\u001b[0;32m---> 10\u001b[0;31m            multiclass_extension=one_against_rest.OneAgainstRest)\n\u001b[0m\u001b[1;32m     11\u001b[0m \u001b[0;34m\u001b[0m\u001b[0m\n",
      "\u001b[0;32m~/.pyenv/versions/anaconda3-5.1.0/envs/py36/lib/python3.6/site-packages/qiskit/aqua/algorithms/many_sample/qsvm/qsvm.py\u001b[0m in \u001b[0;36m__init__\u001b[0;34m(self, feature_map, training_dataset, test_dataset, datapoints, multiclass_extension)\u001b[0m\n\u001b[1;32m    117\u001b[0m             \u001b[0mqsvm_instance\u001b[0m \u001b[0;34m=\u001b[0m \u001b[0m_QSVM_Binary\u001b[0m\u001b[0;34m(\u001b[0m\u001b[0mself\u001b[0m\u001b[0;34m)\u001b[0m\u001b[0;34m\u001b[0m\u001b[0;34m\u001b[0m\u001b[0m\n\u001b[1;32m    118\u001b[0m         \u001b[0;32melse\u001b[0m\u001b[0;34m:\u001b[0m\u001b[0;34m\u001b[0m\u001b[0;34m\u001b[0m\u001b[0m\n\u001b[0;32m--> 119\u001b[0;31m             \u001b[0mqsvm_instance\u001b[0m \u001b[0;34m=\u001b[0m \u001b[0m_QSVM_Multiclass\u001b[0m\u001b[0;34m(\u001b[0m\u001b[0mself\u001b[0m\u001b[0;34m,\u001b[0m \u001b[0mmulticlass_extension\u001b[0m\u001b[0;34m)\u001b[0m\u001b[0;34m\u001b[0m\u001b[0;34m\u001b[0m\u001b[0m\n\u001b[0m\u001b[1;32m    120\u001b[0m \u001b[0;34m\u001b[0m\u001b[0m\n\u001b[1;32m    121\u001b[0m         \u001b[0mself\u001b[0m\u001b[0;34m.\u001b[0m\u001b[0minstance\u001b[0m \u001b[0;34m=\u001b[0m \u001b[0mqsvm_instance\u001b[0m\u001b[0;34m\u001b[0m\u001b[0;34m\u001b[0m\u001b[0m\n",
      "\u001b[0;32m~/.pyenv/versions/anaconda3-5.1.0/envs/py36/lib/python3.6/site-packages/qiskit/aqua/algorithms/many_sample/qsvm/_qsvm_multiclass.py\u001b[0m in \u001b[0;36m__init__\u001b[0;34m(self, qalgo, multiclass_classifier)\u001b[0m\n\u001b[1;32m     33\u001b[0m         \u001b[0msuper\u001b[0m\u001b[0;34m(\u001b[0m\u001b[0;34m)\u001b[0m\u001b[0;34m.\u001b[0m\u001b[0m__init__\u001b[0m\u001b[0;34m(\u001b[0m\u001b[0mqalgo\u001b[0m\u001b[0;34m)\u001b[0m\u001b[0;34m\u001b[0m\u001b[0;34m\u001b[0m\u001b[0m\n\u001b[1;32m     34\u001b[0m         \u001b[0mself\u001b[0m\u001b[0;34m.\u001b[0m\u001b[0mmulticlass_classifier\u001b[0m \u001b[0;34m=\u001b[0m \u001b[0mmulticlass_classifier\u001b[0m\u001b[0;34m\u001b[0m\u001b[0;34m\u001b[0m\u001b[0m\n\u001b[0;32m---> 35\u001b[0;31m         \u001b[0mself\u001b[0m\u001b[0;34m.\u001b[0m\u001b[0mmulticlass_classifier\u001b[0m\u001b[0;34m.\u001b[0m\u001b[0mparams\u001b[0m\u001b[0;34m.\u001b[0m\u001b[0mappend\u001b[0m\u001b[0;34m(\u001b[0m\u001b[0mqalgo\u001b[0m\u001b[0;34m)\u001b[0m\u001b[0;34m\u001b[0m\u001b[0;34m\u001b[0m\u001b[0m\n\u001b[0m\u001b[1;32m     36\u001b[0m \u001b[0;34m\u001b[0m\u001b[0m\n\u001b[1;32m     37\u001b[0m     \u001b[0;32mdef\u001b[0m \u001b[0mtrain\u001b[0m\u001b[0;34m(\u001b[0m\u001b[0mself\u001b[0m\u001b[0;34m,\u001b[0m \u001b[0mdata\u001b[0m\u001b[0;34m,\u001b[0m \u001b[0mlabels\u001b[0m\u001b[0;34m)\u001b[0m\u001b[0;34m:\u001b[0m\u001b[0;34m\u001b[0m\u001b[0;34m\u001b[0m\u001b[0m\n",
      "\u001b[0;31mAttributeError\u001b[0m: type object 'OneAgainstRest' has no attribute 'params'"
     ]
    }
   ],
   "source": [
    "#dose not work..... why???\n",
    "q_instance = QuantumInstance(backend)\n",
    "qsvm = QSVM(feature_map=feature_map,\n",
    "           training_dataset={'A':train_x[train_y==0],\n",
    "                            'B':train_x[train_y==1],\n",
    "                            'C':train_x[train_y==2]},\n",
    "           test_dataset={'A':test_x[test_y==0],\n",
    "                        'B':test_x[test_y==1],\n",
    "                        'C':test_x[test_y==2]},\n",
    "           multiclass_extension=one_against_rest.OneAgainstRest)\n",
    "           "
   ]
  },
  {
   "cell_type": "code",
   "execution_count": null,
   "metadata": {},
   "outputs": [],
   "source": []
  }
 ],
 "metadata": {
  "kernelspec": {
   "display_name": "Python 3",
   "language": "python",
   "name": "python3"
  },
  "language_info": {
   "codemirror_mode": {
    "name": "ipython",
    "version": 3
   },
   "file_extension": ".py",
   "mimetype": "text/x-python",
   "name": "python",
   "nbconvert_exporter": "python",
   "pygments_lexer": "ipython3",
   "version": "3.6.8"
  }
 },
 "nbformat": 4,
 "nbformat_minor": 2
}
